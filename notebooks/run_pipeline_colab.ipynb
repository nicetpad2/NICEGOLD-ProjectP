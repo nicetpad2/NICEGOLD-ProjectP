{
 "cells": [
  {
   "cell_type": "markdown",
   "id": "7c0a4ddf",
   "metadata": {},
   "source": [
    "# สมุดบันทึก Jupyter สำหรับรัน pipeline และซิงค์ไฟล์โค้ดกับ Colab ผ่าน Google Drive\n",
    "\n",
    "สมุดนี้จะแสดงวิธีเชื่อมต่อ Google Drive, ซิงค์ไฟล์โค้ด, รัน pipeline และอัปเดตไฟล์กลับไปยัง Drive อัตโนมัติ เหมาะสำหรับ workflow ที่ต้องการใช้ Colab กับโค้ดในเครื่องหรือบน Drive"
   ]
  },
  {
   "cell_type": "markdown",
   "id": "2d38ccca",
   "metadata": {},
   "source": [
    "## 1. ติดตั้งและเชื่อมต่อกับ Google Drive\n",
    "\n",
    "เชื่อมต่อ Google Drive เพื่อให้ Colab เห็นไฟล์โค้ดและข้อมูลของคุณ"
   ]
  },
  {
   "cell_type": "code",
   "execution_count": 1,
   "id": "67252681",
   "metadata": {},
   "outputs": [
    {
     "ename": "ModuleNotFoundError",
     "evalue": "No module named 'google.colab'",
     "output_type": "error",
     "traceback": [
      "\u001b[31m---------------------------------------------------------------------------\u001b[39m",
      "\u001b[31mModuleNotFoundError\u001b[39m                       Traceback (most recent call last)",
      "\u001b[36mCell\u001b[39m\u001b[36m \u001b[39m\u001b[32mIn[1]\u001b[39m\u001b[32m, line 2\u001b[39m\n\u001b[32m      1\u001b[39m \u001b[38;5;66;03m# เชื่อมต่อ Google Drive\u001b[39;00m\n\u001b[32m----> \u001b[39m\u001b[32m2\u001b[39m \u001b[38;5;28;01mfrom\u001b[39;00m\u001b[38;5;250m \u001b[39m\u001b[34;01mgoogle\u001b[39;00m\u001b[34;01m.\u001b[39;00m\u001b[34;01mcolab\u001b[39;00m\u001b[38;5;250m \u001b[39m\u001b[38;5;28;01mimport\u001b[39;00m drive\n\u001b[32m      3\u001b[39m drive.mount(\u001b[33m'\u001b[39m\u001b[33m/content/drive\u001b[39m\u001b[33m'\u001b[39m)\n",
      "\u001b[31mModuleNotFoundError\u001b[39m: No module named 'google.colab'"
     ]
    }
   ],
   "source": [
    "# เชื่อมต่อ Google Drive\n",
    "from google.colab import drive\n",
    "drive.mount('/content/drive')"
   ]
  },
  {
   "cell_type": "markdown",
   "id": "fb0f67ed",
   "metadata": {},
   "source": [
    "## 2. ซิงค์ไฟล์โค้ดระหว่าง Colab และ Google Drive\n",
    "\n",
    "เปลี่ยน directory ไปยังโฟลเดอร์โปรเจกต์ใน Google Drive และตรวจสอบไฟล์"
   ]
  },
  {
   "cell_type": "code",
   "execution_count": null,
   "id": "11b21579",
   "metadata": {},
   "outputs": [],
   "source": [
    "# เปลี่ยน directory ไปยังโฟลเดอร์โปรเจกต์ (แก้ path ตามที่เก็บไฟล์จริง)\n",
    "import os\n",
    "project_path = '/content/drive/MyDrive/Phiradon1688'\n",
    "os.chdir(project_path)\n",
    "!ls"
   ]
  },
  {
   "cell_type": "markdown",
   "id": "47d3dcf4",
   "metadata": {},
   "source": [
    "## 3. รัน Pipeline จากไฟล์ใน Google Drive\n",
    "\n",
    "ติดตั้ง dependencies และรัน pipeline จากไฟล์ใน Drive ได้โดยตรง"
   ]
  },
  {
   "cell_type": "code",
   "execution_count": null,
   "id": "49debfef",
   "metadata": {},
   "outputs": [],
   "source": [
    "# ติดตั้ง dependencies (ถ้ายังไม่ติดตั้ง)\n",
    "!pip install -r requirements.txt\n",
    "\n",
    "# ตัวอย่างรัน pipeline ทั้งหมด\n",
    "!python ProjectP.py --run_full_pipeline\n",
    "\n",
    "# ตัวอย่างรันเฉพาะ step (เช่น preprocess)\n",
    "!python ProjectP.py --step preprocess"
   ]
  },
  {
   "cell_type": "markdown",
   "id": "9a6dec85",
   "metadata": {},
   "source": [
    "## 4. อัปเดตไฟล์โค้ดใน Google Drive อัตโนมัติ\n",
    "\n",
    "Colab จะบันทึกไฟล์ที่แก้ไขใน path ของ Google Drive อัตโนมัติ หากต้องการ sync ไฟล์หรือผลลัพธ์กลับไปยังเครื่อง local ให้ดาวน์โหลดจาก Drive หรือใช้คำสั่งด้านล่าง"
   ]
  },
  {
   "cell_type": "code",
   "execution_count": null,
   "id": "523fa0c3",
   "metadata": {},
   "outputs": [],
   "source": [
    "# ตัวอย่างดาวน์โหลดไฟล์จาก Colab/Drive มายังเครื่อง local\n",
    "from google.colab import files\n",
    "# เปลี่ยนชื่อไฟล์ตามต้องการ\n",
    "files.download('output_default/final_predictions.csv')\n",
    "\n",
    "# หรือใช้ shell command เพื่อคัดลอกไฟล์ไปยัง path อื่นใน Drive\n",
    "!cp output_default/final_predictions.csv /content/drive/MyDrive/Phiradon1688/output_backup/"
   ]
  }
 ],
 "metadata": {
  "kernelspec": {
   "display_name": "Python 3",
   "language": "python",
   "name": "python3"
  },
  "language_info": {
   "codemirror_mode": {
    "name": "ipython",
    "version": 3
   },
   "file_extension": ".py",
   "mimetype": "text/x-python",
   "name": "python",
   "nbconvert_exporter": "python",
   "pygments_lexer": "ipython3",
   "version": "3.11.0"
  }
 },
 "nbformat": 4,
 "nbformat_minor": 5
}
